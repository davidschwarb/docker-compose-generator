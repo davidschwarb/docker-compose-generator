{
 "cells": [
  {
   "cell_type": "code",
   "execution_count": 1,
   "metadata": {},
   "outputs": [],
   "source": [
    "from dockerComposeGenerator import dockerComposeGenerator as g"
   ]
  },
  {
   "cell_type": "markdown",
   "metadata": {},
   "source": [
    "### Enter your service commands between the triple quotes. Press <Ctrl + Enter> to run the selected cell."
   ]
  },
  {
   "cell_type": "code",
   "execution_count": 2,
   "metadata": {
    "scrolled": false
   },
   "outputs": [
    {
     "name": "stdout",
     "output_type": "stream",
     "text": [
      "\n",
      "\n",
      "version: \"3\"\n",
      "services:\n",
      "    voca_redis:\n",
      "        image: redis:3.2.7\n",
      "        deploy:\n",
      "            replicas: 1\n",
      "            placement:\n",
      "                constraints: [node.role == manager]\n",
      "        networks:\n",
      "            voca_network:\n",
      "                 aliases:\n",
      "                     - voca_redis\n",
      "    airflow-webserver:\n",
      "        image: artifactory.associatesys.local:6555/aa/airflow:test-0.0.5\n",
      "        command: webserver\n",
      "        deploy:\n",
      "            replicas: 1\n",
      "            placement:\n",
      "                constraints: [node.role == manager]\n",
      "        ports:\n",
      "            - \"2048:4040\"\n",
      "            - \"30000:8080\"\n",
      "        networks:\n",
      "            - voca_network\n",
      "    airflow-workers:\n",
      "        image: artifactory.associatesys.local:6555/aa/airflow:test-0.0.5\n",
      "        command: worker\n",
      "        deploy:\n",
      "            replicas: 4\n",
      "            placement:\n",
      "                constraints: [node.role != manager]\n",
      "        volumes:\n",
      "            - type: volume\n",
      "              source: my-volume\n",
      "              target: /path/in/container\n",
      "        ports:\n",
      "            - \"8793:8793\"\n",
      "        networks:\n",
      "            - voca_network\n",
      "networks:\n",
      "    voca_network:\n"
     ]
    }
   ],
   "source": [
    "txt = g('''\n",
    "docker service create \\\n",
    "--name voca_redis \\\n",
    "--constraint 'node.role == manager' \\\n",
    "--replicas=1 \\\n",
    "--network voca_network \\\n",
    "--hostname voca_redis \\\n",
    "redis:3.2.7\n",
    "docker service create \\\n",
    "--name airflow-webserver \\\n",
    "--publish 2048:4040 \\\n",
    "--publish 30000:8080 \\\n",
    "--replicas=1 \\\n",
    "--network voca_network \\\n",
    "--constraint 'node.role == manager' \\\n",
    "artifactory.associatesys.local:6555/aa/airflow:test-0.0.5 webserver \n",
    "docker service create \\\n",
    "--name airflow-workers \\\n",
    "--mount type=volume,source=my-volume,destination=/path/in/container \\\n",
    "--publish 8793:8793 \\\n",
    "--replicas=4 \\\n",
    "--network voca_network \\\n",
    "--constraint 'node.role != manager' \\\n",
    "artifactory.associatesys.local:6555/aa/airflow:test-0.0.5 worker\n",
    "''')"
   ]
  },
  {
   "cell_type": "code",
   "execution_count": 3,
   "metadata": {
    "scrolled": true
   },
   "outputs": [
    {
     "name": "stdout",
     "output_type": "stream",
     "text": [
      "Help on function dockerComposeGenerator in module composeGenerator:\n",
      "\n",
      "dockerComposeGenerator(cmd)\n",
      "    Takes docker service create command and generates an equivelent docker compose file\n",
      "    Surround your multi word constraints with single quotes.\n",
      "    Command structure is \"docker service create [OPTIONS] IMAGE [COMMAND]\"\n",
      "\n"
     ]
    }
   ],
   "source": [
    "help(g)\n"
   ]
  }
 ],
 "metadata": {
  "kernelspec": {
   "display_name": "Python 3",
   "language": "python",
   "name": "python3"
  },
  "language_info": {
   "codemirror_mode": {
    "name": "ipython",
    "version": 3
   },
   "file_extension": ".py",
   "mimetype": "text/x-python",
   "name": "python",
   "nbconvert_exporter": "python",
   "pygments_lexer": "ipython3",
   "version": "3.7.3"
  }
 },
 "nbformat": 4,
 "nbformat_minor": 2
}
